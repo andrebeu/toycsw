{
 "cells": [
  {
   "cell_type": "markdown",
   "metadata": {},
   "source": [
    "# full exp:\n",
    "- gridsearch blocked/interleaved, using MSE human as eval metric\n",
    "    - fix parameters\n",
    "- eval fit on early/middle/late conditions"
   ]
  },
  {
   "cell_type": "markdown",
   "metadata": {},
   "source": [
    "# handheld splitting, RNN schema"
   ]
  },
  {
   "cell_type": "code",
   "execution_count": 1,
   "metadata": {},
   "outputs": [],
   "source": [
    "import numpy as np\n",
    "import itertools\n",
    "import matplotlib.pyplot as plt\n",
    "from scipy.stats import zscore\n",
    "from utils import *\n",
    "import pandas as pd\n",
    "from glob import glob as glob"
   ]
  },
  {
   "cell_type": "code",
   "execution_count": 2,
   "metadata": {},
   "outputs": [],
   "source": [
    "%load_ext autoreload\n",
    "%reload_ext autoreload\n",
    "%autoreload 2\n",
    "%matplotlib inline"
   ]
  },
  {
   "cell_type": "markdown",
   "metadata": {},
   "source": [
    "### human data for plotting"
   ]
  },
  {
   "cell_type": "code",
   "execution_count": 3,
   "metadata": {},
   "outputs": [
    {
     "data": {
      "text/plain": [
       "((200,), dict_keys(['blocked', 'interleaved', 'early', 'middle', 'late']))"
      ]
     },
     "execution_count": 3,
     "metadata": {},
     "output_type": "execute_result"
    }
   ],
   "source": [
    "##  load human data for fitting\n",
    "humandf = pd.read_csv('humandf.csv')\n",
    "human_accD = {}\n",
    "condL =['blocked','interleaved','early','middle','late']\n",
    "for cond in condL:\n",
    "    human_accD[cond] = humandf.loc[:,'%s mean'%cond].values\n",
    "# 1d arrs of acc\n",
    "human_accD['blocked'].shape,human_accD.keys()"
   ]
  },
  {
   "cell_type": "markdown",
   "metadata": {},
   "source": [
    "# full experiment"
   ]
  },
  {
   "cell_type": "code",
   "execution_count": 4,
   "metadata": {},
   "outputs": [],
   "source": [
    "def run_exp(nseeds,condL,paramD,ntr=160,nte=40):\n",
    "    \"\"\" returns acc for cond in condL \n",
    "    \"\"\"\n",
    "    print('N=%i'%nseeds,paramD)\n",
    "    acc = -np.ones([len(condL),nseeds,ntr+nte])\n",
    "    for ci,cond in enumerate(condL):\n",
    "        for s in range(nseeds):\n",
    "            # seed ctrl\n",
    "            np.random.seed(s)\n",
    "            tr.manual_seed(s)\n",
    "            # init\n",
    "            ag = Agent(**paramD)\n",
    "            task = Task()\n",
    "            # run\n",
    "            exp,cur = task.generate_experiment(cond,ntr,nte)\n",
    "            acc[ci,s] = ag.forward_exp(exp) \n",
    "    return acc\n",
    "  \n",
    "def plt_human(ax=None,condL=['blocked'],c='k'):\n",
    "  for cond in condL:\n",
    "    ax.plot(human_accD[cond],\n",
    "            c=c,zorder=-99,alpha=0.4\n",
    "           )\n",
    "  return None\n",
    "\n",
    "def plt_acc(acc,condL,ax=None,h=1):\n",
    "  # model\n",
    "  for ac in acc:\n",
    "    ax.plot(ac.mean(0))\n",
    "  # human plot\n",
    "  if h:\n",
    "    plt_human(ax=ax,condL=condL)\n",
    "  ax.set_ylim(0.2,1)    \n",
    "  return None"
   ]
  },
  {
   "cell_type": "markdown",
   "metadata": {},
   "source": [
    "### blocked / interleaved plots"
   ]
  },
  {
   "cell_type": "code",
   "execution_count": 5,
   "metadata": {},
   "outputs": [],
   "source": [
    "bestparamD = {\n",
    "  'sticky_decay': 0.02, \n",
    "  'pe_thresh': 0.9, \n",
    "  'init_lr': 0.45, \n",
    "  'lr_decay': 0.25, \n",
    "  'stsize': 6.0\n",
    "}"
   ]
  },
  {
   "cell_type": "code",
   "execution_count": null,
   "metadata": {},
   "outputs": [
    {
     "name": "stdout",
     "output_type": "stream",
     "text": [
      "N=50 {'sticky_decay': 0.02, 'pe_thresh': 0.9, 'init_lr': 0.45, 'lr_decay': 0.25, 'stsize': 6.0}\n"
     ]
    }
   ],
   "source": [
    "ns = 50\n",
    "condBI = ['blocked','interleaved']\n",
    "acc_bestBI = run_exp(nseeds=ns,\n",
    "              condL=condBI,\n",
    "              paramD=bestparamD\n",
    "             )"
   ]
  },
  {
   "cell_type": "code",
   "execution_count": null,
   "metadata": {},
   "outputs": [],
   "source": [
    "plt.subplots(figsize=(10,4))\n",
    "ax = plt.gca()\n",
    "plt_acc(acc_bestBI,condBI,ax=ax)"
   ]
  },
  {
   "cell_type": "markdown",
   "metadata": {},
   "source": [
    "### early / middle / late plots"
   ]
  },
  {
   "cell_type": "code",
   "execution_count": null,
   "metadata": {},
   "outputs": [],
   "source": [
    "condEML=['early','middle','late']\n",
    "ns = 50\n",
    "acc_bestEML = run_exp(nseeds=ns,\n",
    "              condL=condEML,\n",
    "              paramD=bestparamD\n",
    "             )"
   ]
  },
  {
   "cell_type": "code",
   "execution_count": null,
   "metadata": {},
   "outputs": [],
   "source": [
    "f,ax = plt.subplots(3,1,figsize=(10,10),sharex=True)\n",
    "for ci in range(3):\n",
    "  cond = condEML[ci]\n",
    "  plt_acc([acc_bestEML[ci]],[cond],ax=ax[ci])\n",
    "  ax[ci].set_title(cond)"
   ]
  },
  {
   "cell_type": "markdown",
   "metadata": {},
   "source": [
    "# analysis of splitting"
   ]
  },
  {
   "cell_type": "code",
   "execution_count": null,
   "metadata": {},
   "outputs": [],
   "source": []
  }
 ],
 "metadata": {
  "kernelspec": {
   "display_name": "Python 3",
   "language": "python",
   "name": "python3"
  },
  "language_info": {
   "codemirror_mode": {
    "name": "ipython",
    "version": 3
   },
   "file_extension": ".py",
   "mimetype": "text/x-python",
   "name": "python",
   "nbconvert_exporter": "python",
   "pygments_lexer": "ipython3",
   "version": "3.7.9"
  }
 },
 "nbformat": 4,
 "nbformat_minor": 4
}
