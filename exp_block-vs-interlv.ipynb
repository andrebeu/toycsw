{
 "cells": [
  {
   "cell_type": "markdown",
   "metadata": {},
   "source": [
    "# one-step delta learning rule\n",
    "- best param found {'sticky_decay_rate': 0.02, 'pe_thresh': 1.0, 'init_lr': 0.25, 'lr_decay_rate': 0.05}"
   ]
  },
  {
   "cell_type": "code",
   "execution_count": 1,
   "metadata": {},
   "outputs": [],
   "source": [
    "%load_ext autoreload\n",
    "%reload_ext autoreload\n",
    "%autoreload 2"
   ]
  },
  {
   "cell_type": "code",
   "execution_count": 2,
   "metadata": {},
   "outputs": [],
   "source": [
    "import numpy as np\n",
    "import itertools\n",
    "import matplotlib.pyplot as plt\n",
    "%matplotlib inline\n",
    "from utils import *\n",
    "import torch as tr"
   ]
  },
  {
   "cell_type": "markdown",
   "metadata": {},
   "source": [
    "# scratch"
   ]
  },
  {
   "cell_type": "code",
   "execution_count": 3,
   "metadata": {},
   "outputs": [
    {
     "data": {
      "text/plain": [
       "2.768671775701494"
      ]
     },
     "execution_count": 3,
     "metadata": {},
     "output_type": "execute_result"
    }
   ],
   "source": [
    "rnn = RNNSch(.1,.1)\n",
    "path = [1,2,3,5] \n",
    "rnn.calc_pe(path)"
   ]
  },
  {
   "cell_type": "code",
   "execution_count": 4,
   "metadata": {},
   "outputs": [],
   "source": [
    "# rnn = RNNSch(.1,.1)\n",
    "# path = [1,2,3,5] \n",
    "# yh = rnn.forward(path)\n",
    "# yh.shape\n",
    "# yhsm = tr.softmax(yh,-1).squeeze().detach().numpy()"
   ]
  },
  {
   "cell_type": "code",
   "execution_count": 5,
   "metadata": {},
   "outputs": [],
   "source": [
    "# yhsm.shape\n",
    "# yh.squeeze().detach().numpy().shape\n",
    "# np.eye(10)[path]"
   ]
  },
  {
   "cell_type": "code",
   "execution_count": 6,
   "metadata": {},
   "outputs": [],
   "source": [
    "# path = [1,3,5,7]\n",
    "# rnn = RNN"
   ]
  },
  {
   "cell_type": "markdown",
   "metadata": {},
   "source": [
    "# main"
   ]
  },
  {
   "cell_type": "code",
   "execution_count": null,
   "metadata": {
    "scrolled": true
   },
   "outputs": [],
   "source": [
    "nsubs = 20\n",
    "task = Task()\n",
    "ntr,nte = 160,40\n",
    "\n",
    "accL = [[],[]]\n",
    "condL = ['blocked','interleaved']\n",
    "data = {'R':[[],[]],'T':[[],[]]}\n",
    "\n",
    "for ci,cond in enumerate(condL):\n",
    "  for s in range(nsubs):\n",
    "    ag = Agent()\n",
    "    exp,cur = task.generate_experiment(cond,ntr,nte)\n",
    "    accT,accR = ag.forward_exp(exp) \n",
    "    data['R'][ci].append(accR)\n",
    "    data['T'][ci].append(accT)\n"
   ]
  },
  {
   "cell_type": "code",
   "execution_count": null,
   "metadata": {},
   "outputs": [],
   "source": [
    "acc = np.array(data['R'])\n",
    "acc.shape # cond,subs,trial,tstep"
   ]
  },
  {
   "cell_type": "code",
   "execution_count": null,
   "metadata": {},
   "outputs": [],
   "source": [
    "tsteps = [2,3]\n",
    "for ci,c in enumerate(condL):\n",
    "  Macc = np.mean(acc[ci],0) \n",
    "  acplt = Macc[:,tsteps].mean(-1)\n",
    "  plt.plot(acplt)\n",
    "Macc.shape\n",
    "plt.ylim(0,1)"
   ]
  },
  {
   "cell_type": "markdown",
   "metadata": {},
   "source": [
    "# diagnostic plots"
   ]
  }
 ],
 "metadata": {
  "kernelspec": {
   "display_name": "Python 3",
   "language": "python",
   "name": "python3"
  },
  "language_info": {
   "codemirror_mode": {
    "name": "ipython",
    "version": 3
   },
   "file_extension": ".py",
   "mimetype": "text/x-python",
   "name": "python",
   "nbconvert_exporter": "python",
   "pygments_lexer": "ipython3",
   "version": "3.7.9"
  }
 },
 "nbformat": 4,
 "nbformat_minor": 4
}
