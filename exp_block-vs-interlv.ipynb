{
 "cells": [
  {
   "cell_type": "markdown",
   "metadata": {},
   "source": [
    "# one-step delta learning rule\n",
    "- best param found {'sticky_decay_rate': 0.02, 'pe_thresh': 1.0, 'init_lr': 0.25, 'lr_decay_rate': 0.05}"
   ]
  },
  {
   "cell_type": "code",
   "execution_count": 1,
   "metadata": {},
   "outputs": [],
   "source": [
    "%load_ext autoreload\n",
    "%reload_ext autoreload\n",
    "%autoreload 2"
   ]
  },
  {
   "cell_type": "code",
   "execution_count": 2,
   "metadata": {},
   "outputs": [
    {
     "ename": "SyntaxError",
     "evalue": "invalid syntax (utils.py, line 103)",
     "output_type": "error",
     "traceback": [
      "Traceback \u001b[0;36m(most recent call last)\u001b[0m:\n",
      "  File \u001b[1;32m\"//anaconda3/envs/sem/lib/python3.7/site-packages/IPython/core/interactiveshell.py\"\u001b[0m, line \u001b[1;32m3418\u001b[0m, in \u001b[1;35mrun_code\u001b[0m\n    exec(code_obj, self.user_global_ns, self.user_ns)\n",
      "\u001b[0;36m  File \u001b[0;32m\"<ipython-input-2-b76ca82060c7>\"\u001b[0;36m, line \u001b[0;32m5\u001b[0;36m, in \u001b[0;35m<module>\u001b[0;36m\u001b[0m\n\u001b[0;31m    from utils import *\u001b[0m\n",
      "\u001b[0;36m  File \u001b[0;32m\"/Users/abeukers/wd/toycsw/utils.py\"\u001b[0;36m, line \u001b[0;32m103\u001b[0m\n\u001b[0;31m    self.schlib = ['rsch':RNNSch(**self.sch_params)]\u001b[0m\n\u001b[0m                         ^\u001b[0m\n\u001b[0;31mSyntaxError\u001b[0m\u001b[0;31m:\u001b[0m invalid syntax\n"
     ]
    }
   ],
   "source": [
    "import numpy as np\n",
    "import itertools\n",
    "import matplotlib.pyplot as plt\n",
    "%matplotlib inline\n",
    "from utils import *\n",
    "import torch as tr"
   ]
  },
  {
   "cell_type": "markdown",
   "metadata": {},
   "source": [
    "# scratch"
   ]
  },
  {
   "cell_type": "code",
   "execution_count": null,
   "metadata": {},
   "outputs": [],
   "source": []
  },
  {
   "cell_type": "markdown",
   "metadata": {},
   "source": [
    "# main"
   ]
  },
  {
   "cell_type": "code",
   "execution_count": null,
   "metadata": {
    "scrolled": true
   },
   "outputs": [],
   "source": [
    "nsubs = 20\n",
    "task = Task()\n",
    "ntr,nte = 160,40\n",
    "\n",
    "accL = [[],[]]\n",
    "condL = ['blocked','interleaved']\n",
    "data = [[],[]]\n",
    "for ci,cond in enumerate(condL):\n",
    "  for s in range(nsubs):\n",
    "    ag = Agent()\n",
    "    exp,cur = task.generate_experiment(cond,ntr,nte)\n",
    "    accT,accR = ag.forward_exp(exp) \n",
    "    data[ci].append(accR)\n"
   ]
  },
  {
   "cell_type": "code",
   "execution_count": null,
   "metadata": {},
   "outputs": [],
   "source": [
    "acc = np.array(data)\n",
    "acc.shape # cond,subs,trial,tstep"
   ]
  },
  {
   "cell_type": "code",
   "execution_count": null,
   "metadata": {},
   "outputs": [],
   "source": [
    "tsteps = [2,3]\n",
    "for ci,c in enumerate(condL):\n",
    "  Macc = np.mean(acc[ci],0) \n",
    "  acplt = Macc[:,tsteps].mean(-1)\n",
    "  plt.plot(acplt)\n",
    "Macc.shape\n",
    "plt.ylim(0,1)"
   ]
  },
  {
   "cell_type": "markdown",
   "metadata": {},
   "source": [
    "# diagnostic plots"
   ]
  }
 ],
 "metadata": {
  "kernelspec": {
   "display_name": "Python 3",
   "language": "python",
   "name": "python3"
  },
  "language_info": {
   "codemirror_mode": {
    "name": "ipython",
    "version": 3
   },
   "file_extension": ".py",
   "mimetype": "text/x-python",
   "name": "python",
   "nbconvert_exporter": "python",
   "pygments_lexer": "ipython3",
   "version": "3.7.9"
  }
 },
 "nbformat": 4,
 "nbformat_minor": 4
}
